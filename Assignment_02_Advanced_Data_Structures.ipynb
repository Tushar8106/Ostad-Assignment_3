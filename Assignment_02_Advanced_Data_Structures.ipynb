{
 "cells": [
  {
   "cell_type": "markdown",
   "id": "76c2ad34-bea0-4198-8f8e-b07e3aff9dcd",
   "metadata": {},
   "source": [
    "Understanding Data Structures and Functions"
   ]
  },
  {
   "cell_type": "code",
   "execution_count": 3,
   "id": "f39172e0-a0aa-47fc-9d91-e34d05086c87",
   "metadata": {},
   "outputs": [
    {
     "name": "stdout",
     "output_type": "stream",
     "text": [
      "Set A: {1, 2, 3, 4, 5}\n",
      "Set B: {4, 5, 6, 7, 8}\n",
      "Union: {1, 2, 3, 4, 5, 6, 7, 8}\n",
      "Intersection: {4, 5}\n",
      "Difference A - B: {1, 2, 3}\n",
      "Difference B - A: {8, 6, 7}\n"
     ]
    }
   ],
   "source": [
    "# Define the sets\n",
    "A = {1, 2, 3, 4, 5}\n",
    "B = {4, 5, 6, 7, 8}\n",
    "\n",
    "# Compute union\n",
    "union_result = A.union(B)\n",
    "\n",
    "# Compute intersection\n",
    "intersection_result = A.intersection(B)\n",
    "\n",
    "# Compute difference (A - B and B - A)\n",
    "difference_A_B = A.difference(B)\n",
    "difference_B_A = B.difference(A)\n",
    "\n",
    "# Display results\n",
    "print(\"Set A:\", A)\n",
    "print(\"Set B:\", B)\n",
    "print(\"Union:\", union_result)\n",
    "print(\"Intersection:\", intersection_result)\n",
    "print(\"Difference A - B:\", difference_A_B)\n",
    "print(\"Difference B - A:\", difference_B_A)\n"
   ]
  },
  {
   "cell_type": "code",
   "execution_count": null,
   "id": "d8928090-2bd4-4983-9c68-1edf5aa2e2d4",
   "metadata": {},
   "outputs": [],
   "source": []
  }
 ],
 "metadata": {
  "kernelspec": {
   "display_name": "Python [conda env:base] *",
   "language": "python",
   "name": "conda-base-py"
  },
  "language_info": {
   "codemirror_mode": {
    "name": "ipython",
    "version": 3
   },
   "file_extension": ".py",
   "mimetype": "text/x-python",
   "name": "python",
   "nbconvert_exporter": "python",
   "pygments_lexer": "ipython3",
   "version": "3.12.7"
  }
 },
 "nbformat": 4,
 "nbformat_minor": 5
}
